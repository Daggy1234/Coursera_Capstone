   "source": [
{
 "cells": [
  {
   "cell_type": "markdown",
   "metadata": {
    "collapsed": true,
    "pycharm": {
    }
   },
     "name": "#%% md\n"
    "# __Clustering and analysing Toronto data__"
   ]
  },
  {
   "cell_type": "markdown",
   "source": [